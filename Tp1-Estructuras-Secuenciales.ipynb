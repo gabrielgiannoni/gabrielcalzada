{
 "cells": [
  {
   "cell_type": "markdown",
   "id": "da025cd1",
   "metadata": {},
   "source": [
    "   Trabajo Practico 1 Estructuras Secuenciales"
   ]
  },
  {
   "cell_type": "markdown",
   "id": "0cd56600",
   "metadata": {},
   "source": [
    "Ejercicio 1:\n",
    "Crear un programa que imprima en por pantalla el mensaje : \"Hola Mundo!\"."
   ]
  },
  {
   "cell_type": "code",
   "execution_count": null,
   "id": "d29ab39a",
   "metadata": {},
   "outputs": [
    {
     "name": "stdout",
     "output_type": "stream",
     "text": [
      "Hola mundo!\n"
     ]
    }
   ],
   "source": [
    "print (\"Hola mundo!\")"
   ]
  },
  {
   "cell_type": "markdown",
   "id": "7d2a5ba1",
   "metadata": {},
   "source": [
    "Ejercicio 2:\n",
    "crear un programa que pida la usuario su nombre e imprima por pantalla un saludo usando el nombre ingresado. Por ejemplo: si el usuario ingresa \"MARCOS\" , el programa debe imprimir por pantalla \"Hola Marcos!\". Consejo: sera mas sencillo si utilizas la funcion print(f...) para realizar la impresion por pantalla."
   ]
  },
  {
   "cell_type": "code",
   "execution_count": 13,
   "id": "926f0b81",
   "metadata": {},
   "outputs": [
    {
     "name": "stdout",
     "output_type": "stream",
     "text": [
      "Saludos gabriel!\n"
     ]
    }
   ],
   "source": [
    "nombre = input (\"Por favor ingrese su nombre: \")\n",
    "print (f\"Saludos {nombre}!\")"
   ]
  },
  {
   "cell_type": "markdown",
   "id": "2ee8cc07",
   "metadata": {},
   "source": [
    "Ejercicio 3:\n",
    "crear un programa que pida al usuario su nombre, apellido, edad y lugar de residencia e imprima por pantalla una oracion con los datos ingresados. Por ejemplo: si el usuario ingresa ,\"marcos\", \"perez\",\"30\" y \"argentina\", el programa debera imprimri \"soy marcos perez tengo 30 anio y vivo en argentina\""
   ]
  },
  {
   "cell_type": "code",
   "execution_count": null,
   "id": "996778cc",
   "metadata": {},
   "outputs": [
    {
     "name": "stdout",
     "output_type": "stream",
     "text": [
      "Soy gabriel giannoni tengo 28 anios y vivo en argentina\n"
     ]
    }
   ],
   "source": [
    "nombre = input(\"Ingrese su nombre\")\n",
    "apellido = input (\"Ingrese su apellido\")\n",
    "edad = input (\"Ingrese su edad\")\n",
    "residencia = input (\"Ingrese su lugar de residencia actual\")\n",
    "\n",
    "print (f\"Soy {nombre} {apellido} tengo {edad} anios y vivo en {residencia}\")"
   ]
  },
  {
   "cell_type": "markdown",
   "id": "e5f1df1a",
   "metadata": {},
   "source": [
    "Ejercicio 4:\n",
    "Crear un programa que pida al usuario el radio de un circulo e imprima por pantalla su area y su perimetro"
   ]
  },
  {
   "cell_type": "code",
   "execution_count": 29,
   "id": "944e2d2b",
   "metadata": {},
   "outputs": [
    {
     "name": "stdout",
     "output_type": "stream",
     "text": [
      "Radio ingresado: 5.0\n",
      "Área = 78.53981633974483\n",
      "Perímetro (circunferencia) = 31.41592653589793\n"
     ]
    }
   ],
   "source": [
    "import math\n",
    "\n",
    "radio = float(input(\"Ingrese el radio de un círculo: \"))\n",
    "\n",
    "area = math.pi * pow(radio, 2)\n",
    "circunferencia = 2 * math.pi * radio\n",
    "\n",
    "print(f\"Radio ingresado: {radio}\")\n",
    "print(f\"Área = {area}\")\n",
    "print(f\"Perímetro (circunferencia) = {circunferencia}\")"
   ]
  },
  {
   "cell_type": "markdown",
   "id": "0e590eb8",
   "metadata": {},
   "source": [
    "Ejercicio 5:\n",
    "Crear un programa que pida al usuario una cantidad de segundos e imprima por pantalla su equivalente en horas"
   ]
  },
  {
   "cell_type": "code",
   "execution_count": null,
   "id": "7f21c3b5",
   "metadata": {},
   "outputs": [
    {
     "name": "stdout",
     "output_type": "stream",
     "text": [
      "El equivalente a horas es: 1.0\n"
     ]
    }
   ],
   "source": [
    "seg = float(input(\"ingrese una cantidad de segundos\"))\n",
    "horas = 3600 / seg\n",
    "print(f\"El equivalente a horas es: {horas}\")"
   ]
  },
  {
   "cell_type": "markdown",
   "id": "fce17813",
   "metadata": {},
   "source": [
    "Ejercicio 6:\n",
    "Crear un programa que pida al usuario un numero e imprima por pantalla la tabla de multiplicar de dicho numero"
   ]
  },
  {
   "cell_type": "code",
   "execution_count": 13,
   "id": "deb69774",
   "metadata": {},
   "outputs": [
    {
     "name": "stdout",
     "output_type": "stream",
     "text": [
      "5 por 1: (5)\n",
      "5 por 2: (10)\n",
      "5 por 3: (15)\n",
      "5 por 4: (20)\n",
      "5 por 5: (25)\n",
      "5 por 6: (30)\n",
      "5 por 7: (35)\n",
      "5 por 8: (40)\n",
      "5 por 9: (45)\n"
     ]
    }
   ],
   "source": [
    "num = int(input(\"Ingrese un numero entero\"))\n",
    "print(f\"{num} por 1: ({num*1})\")\n",
    "print(f\"{num} por 2: ({num*2})\")\n",
    "print(f\"{num} por 3: ({num*3})\")\n",
    "print(f\"{num} por 4: ({num*4})\")\n",
    "print(f\"{num} por 5: ({num*5})\")\n",
    "print(f\"{num} por 6: ({num*6})\")\n",
    "print(f\"{num} por 7: ({num*7})\")\n",
    "print(f\"{num} por 8: ({num*8})\")\n",
    "print(f\"{num} por 9: ({num*9})\")"
   ]
  },
  {
   "cell_type": "markdown",
   "id": "14ef606b",
   "metadata": {},
   "source": [
    "Ejercicio 7:\n",
    "Crear un programa que pida la usuario dos numeros enteros distintos de 0 y muestre por pantalla el resultado de sumarlos, dividirlos, multiplicarlos y restarlos."
   ]
  },
  {
   "cell_type": "code",
   "execution_count": 19,
   "id": "f0519776",
   "metadata": {},
   "outputs": [
    {
     "name": "stdout",
     "output_type": "stream",
     "text": [
      "La suma de ambos numeros es: 12\n",
      "La division de ambos numeros es: 0.5\n",
      "La multiplicacion de ambos numeros es: 32\n",
      "La resta de ambos numeros es: -4\n"
     ]
    }
   ],
   "source": [
    "num1 = int(input(\"ingrese un numero entero\"))\n",
    "num2 = int(input(\"Ingrese otro numero entero\"))\n",
    "print(f\"La suma de ambos numeros es: {num1+num2}\")\n",
    "\n",
    "print(f\"La division de ambos numeros es: {num1/num2}\")\n",
    "\n",
    "print(f\"La multiplicacion de ambos numeros es: {num1*num2}\")\n",
    "\n",
    "print(f\"La resta de ambos numeros es: {num1-num2}\")"
   ]
  },
  {
   "cell_type": "markdown",
   "id": "df6b05ed",
   "metadata": {},
   "source": [
    "Ejercicio 8:\n",
    "Crear un programa que pida al usuario su altura y su peso e imprima por pantalla su indice de masa corporal.Tener en cuenta que el indice de masa corporal se calcula de la siguiente manera:\n",
    "IMC = peso en kg / (altura en m.(m)))"
   ]
  },
  {
   "cell_type": "code",
   "execution_count": 22,
   "id": "9d777381",
   "metadata": {},
   "outputs": [
    {
     "name": "stdout",
     "output_type": "stream",
     "text": [
      "Su indice de masa corporal es: 410.8888888888889 \n"
     ]
    }
   ],
   "source": [
    "altura = int(input(\"Ingrese su altura en m\"))\n",
    "peso = float(input(\"Ingrese su peso en kg\"))\n",
    "imc =  (pow(altura,2)) / peso\n",
    "print(f\"Su indice de masa corporal es: {imc} \")"
   ]
  },
  {
   "cell_type": "markdown",
   "id": "355cab69",
   "metadata": {},
   "source": [
    "Ejercicio 9:\n",
    "Crear un programa que pida al usuario una temperatura en grados celsius e imprima por pantalla su equivalente en grados farenheit. tener en cuenta la siguiente equivalencia: \n",
    "Temp Farenheit = 9/5.Temp celsius + 32"
   ]
  },
  {
   "cell_type": "code",
   "execution_count": 24,
   "id": "99685bd1",
   "metadata": {},
   "outputs": [
    {
     "name": "stdout",
     "output_type": "stream",
     "text": [
      "La temperatura ingresa en grados Celsius es equivalente a: 100.4 grados Farenheit\n"
     ]
    }
   ],
   "source": [
    "tempCelsius = float(input(\"Ingrese una temperatura en grados Celsius\"))\n",
    "tempFarenheit = (9/5*tempCelsius + 32)\n",
    "print(f\"La temperatura ingresa en grados Celsius es equivalente a: {tempFarenheit} grados Farenheit\")"
   ]
  },
  {
   "cell_type": "markdown",
   "id": "87871772",
   "metadata": {},
   "source": [
    "Ejercicio 10:\n",
    "Crear un programa que pida al usuario 3 numeros e imprima por panatlla el promedio de dichos numeros."
   ]
  },
  {
   "cell_type": "code",
   "execution_count": 27,
   "id": "1622008a",
   "metadata": {},
   "outputs": [
    {
     "name": "stdout",
     "output_type": "stream",
     "text": [
      "El promedio de los 3 numeros es: 12.666666666666666\n"
     ]
    }
   ],
   "source": [
    "num1 = int(input(\"Ingrese 3 numeros\"))\n",
    "num2 = int(input(\"numero 2\"))\n",
    "num3 = int(input(\"numero 3\"))\n",
    "print(f\"El promedio de los 3 numeros es: {num1+num2+num3/3}\")"
   ]
  },
  {
   "cell_type": "code",
   "execution_count": null,
   "id": "3d8722e5",
   "metadata": {},
   "outputs": [],
   "source": []
  }
 ],
 "metadata": {
  "kernelspec": {
   "display_name": "Python 3",
   "language": "python",
   "name": "python3"
  },
  "language_info": {
   "codemirror_mode": {
    "name": "ipython",
    "version": 3
   },
   "file_extension": ".py",
   "mimetype": "text/x-python",
   "name": "python",
   "nbconvert_exporter": "python",
   "pygments_lexer": "ipython3",
   "version": "3.9.6"
  }
 },
 "nbformat": 4,
 "nbformat_minor": 5
}
