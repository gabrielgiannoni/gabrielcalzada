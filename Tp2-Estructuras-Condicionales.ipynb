{
 "cells": [
  {
   "cell_type": "markdown",
   "id": "029bfd78",
   "metadata": {},
   "source": [
    "    Trabajo Practico 2 Estructuras Condicionales"
   ]
  },
  {
   "cell_type": "markdown",
   "id": "093c52c9",
   "metadata": {},
   "source": [
    "aa"
   ]
  }
 ],
 "metadata": {
  "language_info": {
   "name": "python"
  }
 },
 "nbformat": 4,
 "nbformat_minor": 5
}
